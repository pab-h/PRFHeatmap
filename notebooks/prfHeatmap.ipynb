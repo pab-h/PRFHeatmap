{
 "cells": [
  {
   "cell_type": "markdown",
   "metadata": {},
   "source": [
    "# Bibliotecas"
   ]
  },
  {
   "cell_type": "code",
   "execution_count": 62,
   "metadata": {},
   "outputs": [],
   "source": [
    "import folium\n",
    "from folium.plugins import HeatMap \n",
    "\n",
    "import pandas as pd"
   ]
  },
  {
   "cell_type": "markdown",
   "metadata": {},
   "source": [
    "## Testando o Folium"
   ]
  },
  {
   "cell_type": "code",
   "execution_count": 63,
   "metadata": {},
   "outputs": [],
   "source": [
    "fortalezaMap = folium.Map(\n",
    "    location = [-3.700490, -38.51082],\n",
    "    control_scale = True\n",
    ")\n",
    "\n",
    "fortalezaMap.save(\"../dist/fortaleza.html\")"
   ]
  },
  {
   "cell_type": "markdown",
   "metadata": {},
   "source": [
    "## Carregando o dataset Acidentes 2024"
   ]
  },
  {
   "cell_type": "code",
   "execution_count": null,
   "metadata": {},
   "outputs": [],
   "source": [
    "datatran2024 = pd.read_csv(\n",
    "    filepath_or_buffer = \"../data/datatran2024.csv\",\n",
    "\tencoding = \"latin1\",\n",
    "    sep = \";\"\n",
    ")\n",
    "\n",
    "print(datatran2024.head())"
   ]
  },
  {
   "cell_type": "markdown",
   "metadata": {},
   "source": [
    "## Préprocessamento do dataset"
   ]
  },
  {
   "cell_type": "code",
   "execution_count": null,
   "metadata": {},
   "outputs": [],
   "source": [
    "datatran2024[\"latitude\"] = datatran2024[\"latitude\"].str.replace(\",\", \".\") \n",
    "datatran2024[\"longitude\"] = datatran2024[\"longitude\"].str.replace(\",\", \".\") \n",
    "\n",
    "datatran2024[\"latitude\"] = pd.to_numeric(datatran2024[\"latitude\"])\n",
    "datatran2024[\"longitude\"] = pd.to_numeric(datatran2024[\"longitude\"]) \n",
    "\n",
    "print(datatran2024.dtypes)"
   ]
  },
  {
   "cell_type": "code",
   "execution_count": null,
   "metadata": {},
   "outputs": [],
   "source": [
    "print(datatran2024.columns)"
   ]
  },
  {
   "cell_type": "markdown",
   "metadata": {},
   "source": [
    "## Definindo o centro do mapa"
   ]
  },
  {
   "cell_type": "code",
   "execution_count": 67,
   "metadata": {},
   "outputs": [],
   "source": [
    "mapCenter = datatran2024[[\n",
    "    \"latitude\", \n",
    "    \"longitude\"\n",
    "]].mean().tolist()\n"
   ]
  },
  {
   "cell_type": "markdown",
   "metadata": {},
   "source": [
    "## Gerando o mapa"
   ]
  },
  {
   "cell_type": "code",
   "execution_count": 69,
   "metadata": {},
   "outputs": [],
   "source": [
    "accidentMap = folium.Map(\n",
    "    location = mapCenter\n",
    ") \n",
    "\n",
    "HeatMap(\n",
    "    data = datatran2024[[\"latitude\", \"longitude\"]].values.tolist(),\n",
    ").add_to(accidentMap)\n",
    "\n",
    "accidentMap.save(\"../dist/accident-map.html\")"
   ]
  }
 ],
 "metadata": {
  "kernelspec": {
   "display_name": ".venv",
   "language": "python",
   "name": "python3"
  },
  "language_info": {
   "codemirror_mode": {
    "name": "ipython",
    "version": 3
   },
   "file_extension": ".py",
   "mimetype": "text/x-python",
   "name": "python",
   "nbconvert_exporter": "python",
   "pygments_lexer": "ipython3",
   "version": "3.12.3"
  }
 },
 "nbformat": 4,
 "nbformat_minor": 2
}
